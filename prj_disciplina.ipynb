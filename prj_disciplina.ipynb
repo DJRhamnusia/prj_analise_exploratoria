{
 "cells": [
  {
   "cell_type": "code",
   "execution_count": 1,
   "metadata": {},
   "outputs": [],
   "source": [
    "import pandas as pd\n",
    "import matplotlib.pyplot as plt"
   ]
  },
  {
   "cell_type": "markdown",
   "metadata": {},
   "source": [
    "# a. Importe os dados em notebook e atribua à variável chipo."
   ]
  },
  {
   "cell_type": "code",
   "execution_count": 57,
   "metadata": {},
   "outputs": [],
   "source": [
    "chipo = pd.read_csv(\"../prj_infnet/db/chipotle.tsv\", delimiter='\\t')"
   ]
  },
  {
   "cell_type": "markdown",
   "metadata": {},
   "source": [
    "# FUNÇÃO PARA VISUALIZAR, CONTABILIZAR E REMOVER DAS ANÁLISES CAMPOS NaN"
   ]
  },
  {
   "cell_type": "code",
   "execution_count": 58,
   "metadata": {},
   "outputs": [],
   "source": [
    "def nan_count(chipo):\n",
    "    cont_nan = chipo.isna().sum()\n",
    "    return(cont_nan)"
   ]
  },
  {
   "cell_type": "code",
   "execution_count": 59,
   "metadata": {},
   "outputs": [
    {
     "name": "stdout",
     "output_type": "stream",
     "text": [
      "order_id                 0\n",
      "quantity                 0\n",
      "item_name                0\n",
      "choice_description    1246\n",
      "item_price               0\n",
      "dtype: int64\n"
     ]
    }
   ],
   "source": [
    "teste = nan_count(chipo)\n",
    "print(teste)"
   ]
  },
  {
   "cell_type": "markdown",
   "metadata": {},
   "source": [
    "# b. Selecione e mostre as 10 primeiras entradas."
   ]
  },
  {
   "cell_type": "code",
   "execution_count": 60,
   "metadata": {},
   "outputs": [
    {
     "data": {
      "text/html": [
       "<div>\n",
       "<style scoped>\n",
       "    .dataframe tbody tr th:only-of-type {\n",
       "        vertical-align: middle;\n",
       "    }\n",
       "\n",
       "    .dataframe tbody tr th {\n",
       "        vertical-align: top;\n",
       "    }\n",
       "\n",
       "    .dataframe thead th {\n",
       "        text-align: right;\n",
       "    }\n",
       "</style>\n",
       "<table border=\"1\" class=\"dataframe\">\n",
       "  <thead>\n",
       "    <tr style=\"text-align: right;\">\n",
       "      <th></th>\n",
       "      <th>order_id</th>\n",
       "      <th>quantity</th>\n",
       "      <th>item_name</th>\n",
       "      <th>choice_description</th>\n",
       "      <th>item_price</th>\n",
       "    </tr>\n",
       "  </thead>\n",
       "  <tbody>\n",
       "    <tr>\n",
       "      <th>0</th>\n",
       "      <td>1</td>\n",
       "      <td>1</td>\n",
       "      <td>Chips and Fresh Tomato Salsa</td>\n",
       "      <td>NaN</td>\n",
       "      <td>$2.39</td>\n",
       "    </tr>\n",
       "    <tr>\n",
       "      <th>1</th>\n",
       "      <td>1</td>\n",
       "      <td>1</td>\n",
       "      <td>Izze</td>\n",
       "      <td>[Clementine]</td>\n",
       "      <td>$3.39</td>\n",
       "    </tr>\n",
       "    <tr>\n",
       "      <th>2</th>\n",
       "      <td>1</td>\n",
       "      <td>1</td>\n",
       "      <td>Nantucket Nectar</td>\n",
       "      <td>[Apple]</td>\n",
       "      <td>$3.39</td>\n",
       "    </tr>\n",
       "    <tr>\n",
       "      <th>3</th>\n",
       "      <td>1</td>\n",
       "      <td>1</td>\n",
       "      <td>Chips and Tomatillo-Green Chili Salsa</td>\n",
       "      <td>NaN</td>\n",
       "      <td>$2.39</td>\n",
       "    </tr>\n",
       "    <tr>\n",
       "      <th>4</th>\n",
       "      <td>2</td>\n",
       "      <td>2</td>\n",
       "      <td>Chicken Bowl</td>\n",
       "      <td>[Tomatillo-Red Chili Salsa (Hot), [Black Beans...</td>\n",
       "      <td>$16.98</td>\n",
       "    </tr>\n",
       "    <tr>\n",
       "      <th>5</th>\n",
       "      <td>3</td>\n",
       "      <td>1</td>\n",
       "      <td>Chicken Bowl</td>\n",
       "      <td>[Fresh Tomato Salsa (Mild), [Rice, Cheese, Sou...</td>\n",
       "      <td>$10.98</td>\n",
       "    </tr>\n",
       "    <tr>\n",
       "      <th>6</th>\n",
       "      <td>3</td>\n",
       "      <td>1</td>\n",
       "      <td>Side of Chips</td>\n",
       "      <td>NaN</td>\n",
       "      <td>$1.69</td>\n",
       "    </tr>\n",
       "    <tr>\n",
       "      <th>7</th>\n",
       "      <td>4</td>\n",
       "      <td>1</td>\n",
       "      <td>Steak Burrito</td>\n",
       "      <td>[Tomatillo Red Chili Salsa, [Fajita Vegetables...</td>\n",
       "      <td>$11.75</td>\n",
       "    </tr>\n",
       "    <tr>\n",
       "      <th>8</th>\n",
       "      <td>4</td>\n",
       "      <td>1</td>\n",
       "      <td>Steak Soft Tacos</td>\n",
       "      <td>[Tomatillo Green Chili Salsa, [Pinto Beans, Ch...</td>\n",
       "      <td>$9.25</td>\n",
       "    </tr>\n",
       "    <tr>\n",
       "      <th>9</th>\n",
       "      <td>5</td>\n",
       "      <td>1</td>\n",
       "      <td>Steak Burrito</td>\n",
       "      <td>[Fresh Tomato Salsa, [Rice, Black Beans, Pinto...</td>\n",
       "      <td>$9.25</td>\n",
       "    </tr>\n",
       "  </tbody>\n",
       "</table>\n",
       "</div>"
      ],
      "text/plain": [
       "   order_id  quantity                              item_name  \\\n",
       "0         1         1           Chips and Fresh Tomato Salsa   \n",
       "1         1         1                                   Izze   \n",
       "2         1         1                       Nantucket Nectar   \n",
       "3         1         1  Chips and Tomatillo-Green Chili Salsa   \n",
       "4         2         2                           Chicken Bowl   \n",
       "5         3         1                           Chicken Bowl   \n",
       "6         3         1                          Side of Chips   \n",
       "7         4         1                          Steak Burrito   \n",
       "8         4         1                       Steak Soft Tacos   \n",
       "9         5         1                          Steak Burrito   \n",
       "\n",
       "                                  choice_description item_price  \n",
       "0                                                NaN     $2.39   \n",
       "1                                       [Clementine]     $3.39   \n",
       "2                                            [Apple]     $3.39   \n",
       "3                                                NaN     $2.39   \n",
       "4  [Tomatillo-Red Chili Salsa (Hot), [Black Beans...    $16.98   \n",
       "5  [Fresh Tomato Salsa (Mild), [Rice, Cheese, Sou...    $10.98   \n",
       "6                                                NaN     $1.69   \n",
       "7  [Tomatillo Red Chili Salsa, [Fajita Vegetables...    $11.75   \n",
       "8  [Tomatillo Green Chili Salsa, [Pinto Beans, Ch...     $9.25   \n",
       "9  [Fresh Tomato Salsa, [Rice, Black Beans, Pinto...     $9.25   "
      ]
     },
     "execution_count": 60,
     "metadata": {},
     "output_type": "execute_result"
    }
   ],
   "source": [
    "chipo.head(10)"
   ]
  },
  {
   "cell_type": "markdown",
   "metadata": {},
   "source": [
    "# c. Quantas observações estão presentes neste DataSet?"
   ]
  },
  {
   "cell_type": "code",
   "execution_count": 81,
   "metadata": {},
   "outputs": [
    {
     "data": {
      "text/plain": [
       "4622"
      ]
     },
     "execution_count": 81,
     "metadata": {},
     "output_type": "execute_result"
    }
   ],
   "source": [
    "chipo.shape[0]"
   ]
  },
  {
   "cell_type": "markdown",
   "metadata": {},
   "source": [
    "# d. Qual o número de colunas neste DataSet?"
   ]
  },
  {
   "cell_type": "code",
   "execution_count": 61,
   "metadata": {},
   "outputs": [
    {
     "name": "stdout",
     "output_type": "stream",
     "text": [
      "Aqui está o número de colunas do DataSet: 5\n"
     ]
    }
   ],
   "source": [
    "cont_cols = chipo.shape[1]\n",
    "print(f\"Aqui está o número de colunas do DataSet:\", cont_cols)"
   ]
  },
  {
   "cell_type": "markdown",
   "metadata": {},
   "source": [
    "# e. Qual o nome de todas as colunas deste DataSet?"
   ]
  },
  {
   "cell_type": "code",
   "execution_count": 62,
   "metadata": {},
   "outputs": [
    {
     "name": "stdout",
     "output_type": "stream",
     "text": [
      "Aqui estão os nomes das colunas:  order_id , quantity , item_name , choice_description , item_price\n"
     ]
    }
   ],
   "source": [
    "col_name = chipo.columns\n",
    "col_name = ' , '.join(col_name)\n",
    "print(f\"Aqui estão os nomes das colunas: \", col_name)"
   ]
  },
  {
   "cell_type": "markdown",
   "metadata": {},
   "source": [
    "# f. Qual o produto mais pedido? Quantas vezes ele foi pedido?"
   ]
  },
  {
   "cell_type": "code",
   "execution_count": 63,
   "metadata": {},
   "outputs": [
    {
     "name": "stdout",
     "output_type": "stream",
     "text": [
      "Aqui está o item mais vendido:  item_name\n",
      "Chicken Bowl    761\n",
      "Name: quantity, dtype: int64\n"
     ]
    }
   ],
   "source": [
    "mais_pedido = chipo.groupby('item_name')['quantity'].sum()\n",
    "mais_pedido = mais_pedido.sort_values(ascending=False)\n",
    "print(f\"Aqui está o item mais vendido: \", mais_pedido.head(1))"
   ]
  },
  {
   "cell_type": "markdown",
   "metadata": {},
   "source": [
    "# g. Qual foi o pedido mais pedido dentro da coluna choice_description?"
   ]
  },
  {
   "cell_type": "code",
   "execution_count": 64,
   "metadata": {},
   "outputs": [
    {
     "name": "stdout",
     "output_type": "stream",
     "text": [
      "Aqui está o pedido mais pedido:  choice_description\n",
      "[Diet Coke]    159\n",
      "Name: quantity, dtype: int64\n"
     ]
    }
   ],
   "source": [
    "mais_pedido_p = chipo.groupby('choice_description')['quantity'].sum()\n",
    "mais_pedido_p = mais_pedido_p.sort_values(ascending=False)\n",
    "print(f\"Aqui está o pedido mais pedido: \", mais_pedido_p.head(1))"
   ]
  },
  {
   "cell_type": "markdown",
   "metadata": {},
   "source": [
    "# h. Quantos itens foram pedidos no total?"
   ]
  },
  {
   "cell_type": "code",
   "execution_count": 65,
   "metadata": {},
   "outputs": [
    {
     "name": "stdout",
     "output_type": "stream",
     "text": [
      "O total d eitens pedidos foram: 8562\n"
     ]
    }
   ],
   "source": [
    "soma_mais_pedidos = mais_pedido.sum(skipna=True)+(mais_pedido_p.sum(skipna=True))\n",
    "print(f\"O total d eitens pedidos foram:\", soma_mais_pedidos)"
   ]
  },
  {
   "cell_type": "code",
   "execution_count": 66,
   "metadata": {},
   "outputs": [
    {
     "name": "stdout",
     "output_type": "stream",
     "text": [
      "Aqui está a lista com os 10 itens mais pedidos: \n",
      "\n",
      "Item: Chicken Bowl, Quantidade Total: 761.0\n",
      "Item: Chicken Burrito, Quantidade Total: 591.0\n",
      "Item: Chips and Guacamole, Quantidade Total: 506.0\n",
      "Item: Steak Burrito, Quantidade Total: 386.0\n",
      "Item: Canned Soft Drink, Quantidade Total: 351.0\n",
      "Item: Chips, Quantidade Total: 230.0\n",
      "Item: Steak Bowl, Quantidade Total: 221.0\n",
      "Item: Bottled Water, Quantidade Total: 211.0\n",
      "Item: [Diet Coke], Quantidade Total: 159.0\n",
      "Item: [Coke], Quantidade Total: 143.0\n"
     ]
    }
   ],
   "source": [
    "chipo_combinado = pd.concat([mais_pedido, mais_pedido_p], axis=1).reset_index()\n",
    "chipo_combinado.columns = ['Item', 'Quantidade_Pedido', 'Quantidade_Pedido_P']\n",
    "chipo_combinado['Total_Quantidade'] = chipo_combinado['Quantidade_Pedido'].fillna(0) + chipo_combinado['Quantidade_Pedido_P'].fillna(0)\n",
    "chipo_ordenado = chipo_combinado.sort_values(by='Total_Quantidade', ascending=False)\n",
    "\n",
    "top_10_itens = chipo_ordenado.head(10)\n",
    "\n",
    "print(\"Aqui está a lista com os 10 itens mais pedidos: \\n\")\n",
    "for index, row in top_10_itens.iterrows():\n",
    "    item = row['Item']\n",
    "    quantidade = row['Total_Quantidade']\n",
    "    print(f\"Item: {item}, Quantidade Total: {quantidade}\")"
   ]
  },
  {
   "cell_type": "markdown",
   "metadata": {},
   "source": [
    "# i. Qual foi o valor recebido para o período representado nessa base de dados?"
   ]
  },
  {
   "cell_type": "code",
   "execution_count": 67,
   "metadata": {},
   "outputs": [
    {
     "name": "stdout",
     "output_type": "stream",
     "text": [
      "Total de vendas: R$ 34500.16\n"
     ]
    }
   ],
   "source": [
    "# O CAMPO VALOR ESTÁ COMO STRING E PARA OBTERMOS O SOMATÓRIO PRECISAMOS PRIMEIRO REMOVER O CARACTER $ E FORMATAR OS NÚMEROS COMO FLOAT.\n",
    "\n",
    "chipo['item_price'] = chipo['item_price'].str.replace('$','').astype(float)\n",
    "total_vendas = chipo['item_price'].sum()\n",
    "print(f'Total de vendas: R$ {total_vendas:.2f}')"
   ]
  },
  {
   "cell_type": "markdown",
   "metadata": {},
   "source": [
    "# j. Qual a média do valor recebido por pedido?"
   ]
  },
  {
   "cell_type": "code",
   "execution_count": 68,
   "metadata": {},
   "outputs": [
    {
     "name": "stdout",
     "output_type": "stream",
     "text": [
      "Aqui está a média do valor recebido por pedido: R$ 18.81\n"
     ]
    }
   ],
   "source": [
    "pedidos = chipo.groupby('order_id')['item_price'].sum().mean()\n",
    "media = pedidos.mean()\n",
    "print(f'Aqui está a média do valor recebido por pedido: R$ {media:.2f}')"
   ]
  },
  {
   "cell_type": "markdown",
   "metadata": {},
   "source": [
    "# k. Quantos itens diferentes estão esgotados?"
   ]
  },
  {
   "cell_type": "code",
   "execution_count": 69,
   "metadata": {},
   "outputs": [
    {
     "name": "stdout",
     "output_type": "stream",
     "text": [
      "Item: Bottled Water, Descrições Esgotadas: [nan]\n",
      "Item: Chips, Descrições Esgotadas: [nan]\n",
      "Item: Chips and Fresh Tomato Salsa, Descrições Esgotadas: [nan]\n",
      "Item: Chips and Guacamole, Descrições Esgotadas: [nan]\n",
      "Item: Chips and Mild Fresh Tomato Salsa, Descrições Esgotadas: [nan]\n",
      "Item: Chips and Roasted Chili Corn Salsa, Descrições Esgotadas: [nan]\n",
      "Item: Chips and Roasted Chili-Corn Salsa, Descrições Esgotadas: [nan]\n",
      "Item: Chips and Tomatillo Green Chili Salsa, Descrições Esgotadas: [nan]\n",
      "Item: Chips and Tomatillo Red Chili Salsa, Descrições Esgotadas: [nan]\n",
      "Item: Chips and Tomatillo-Green Chili Salsa, Descrições Esgotadas: [nan]\n",
      "Item: Chips and Tomatillo-Red Chili Salsa, Descrições Esgotadas: [nan]\n",
      "Item: Side of Chips, Descrições Esgotadas: [nan]\n"
     ]
    }
   ],
   "source": [
    "# buscando itens esgotados\n",
    "itens_esgotados = chipo[chipo['choice_description'].isna()]['item_name'].unique()\n",
    "# criando um dic para armazenar esses itens\n",
    "dic_esgotados = chipo[chipo['item_name'].isin(itens_esgotados)]\n",
    "esgotados = dic_esgotados.groupby('item_name')['choice_description'].unique()\n",
    "\n",
    "for item, descricao in esgotados.items():\n",
    "    print(f'Item: {item}, Descrições Esgotadas: {descricao}')"
   ]
  },
  {
   "cell_type": "markdown",
   "metadata": {},
   "source": [
    "# l. Quantos produtos custam mais de $10?"
   ]
  },
  {
   "cell_type": "code",
   "execution_count": 70,
   "metadata": {},
   "outputs": [
    {
     "name": "stdout",
     "output_type": "stream",
     "text": [
      "Aqui está a quantidade de itens que tem o seu valor maior que $ 10 50\n"
     ]
    }
   ],
   "source": [
    "maior_10_itens = chipo.groupby('item_name')['item_price'].sum()\n",
    "maior_10_qtd = len(maior_10_itens)\n",
    "print(f\"Aqui está a quantidade de itens que tem o seu valor maior que $ 10\", maior_10_qtd)"
   ]
  },
  {
   "cell_type": "markdown",
   "metadata": {},
   "source": [
    "# m. Qual o preço para cada um deles?"
   ]
  },
  {
   "cell_type": "code",
   "execution_count": 71,
   "metadata": {},
   "outputs": [
    {
     "name": "stdout",
     "output_type": "stream",
     "text": [
      "Aqui estão os nomes dos produtos que tem o valor maior que $10 ordenados em ordem alfabética:\n",
      " item_name\n",
      "6 Pack Soft Drink                         356.95\n",
      "Barbacoa Bowl                             672.36\n",
      "Barbacoa Burrito                          894.75\n",
      "Barbacoa Crispy Tacos                     120.21\n",
      "Barbacoa Salad Bowl                       106.40\n",
      "Barbacoa Soft Tacos                       250.46\n",
      "Bottled Water                             302.56\n",
      "Bowl                                       29.60\n",
      "Burrito                                    44.40\n",
      "Canned Soda                               137.34\n",
      "Canned Soft Drink                         438.75\n",
      "Carnitas Bowl                             736.71\n",
      "Carnitas Burrito                          597.83\n",
      "Carnitas Crispy Tacos                      77.96\n",
      "Carnitas Salad                              8.99\n",
      "Carnitas Salad Bowl                        66.34\n",
      "Carnitas Soft Tacos                       375.94\n",
      "Chicken Bowl                             7342.73\n",
      "Chicken Burrito                          5575.82\n",
      "Chicken Crispy Tacos                      472.13\n",
      "Chicken Salad                              81.09\n",
      "Chicken Salad Bowl                       1228.75\n",
      "Chicken Soft Tacos                       1108.09\n",
      "Chips                                     494.34\n",
      "Chips and Fresh Tomato Salsa              361.36\n",
      "Chips and Guacamole                      2201.04\n",
      "Chips and Mild Fresh Tomato Salsa           3.00\n",
      "Chips and Roasted Chili Corn Salsa         67.85\n",
      "Chips and Roasted Chili-Corn Salsa         43.02\n",
      "Chips and Tomatillo Green Chili Salsa     132.75\n",
      "Chips and Tomatillo Red Chili Salsa       147.50\n",
      "Chips and Tomatillo-Green Chili Salsa      78.87\n",
      "Chips and Tomatillo-Red Chili Salsa        59.75\n",
      "Crispy Tacos                               14.80\n",
      "Izze                                       67.80\n",
      "Nantucket Nectar                           98.31\n",
      "Salad                                      14.80\n",
      "Side of Chips                             185.90\n",
      "Steak Bowl                               2260.19\n",
      "Steak Burrito                            3851.43\n",
      "Steak Crispy Tacos                        357.34\n",
      "Steak Salad                                35.66\n",
      "Steak Salad Bowl                          343.59\n",
      "Steak Soft Tacos                          536.05\n",
      "Veggie Bowl                               867.99\n",
      "Veggie Burrito                            934.77\n",
      "Veggie Crispy Tacos                         8.49\n",
      "Veggie Salad                               50.94\n",
      "Veggie Salad Bowl                         182.50\n",
      "Veggie Soft Tacos                          73.96\n",
      "Name: item_price, dtype: float64\n"
     ]
    }
   ],
   "source": [
    "maior_10_itens = chipo.groupby('item_name')['item_price'].sum()\n",
    "print(f\"Aqui estão os nomes dos produtos que tem o valor maior que $10 ordenados em ordem alfabética:\\n\", maior_10_itens)"
   ]
  },
  {
   "cell_type": "markdown",
   "metadata": {},
   "source": [
    "# n.Ordene os itens que custam mais de $10 por ordem alfabética."
   ]
  },
  {
   "cell_type": "code",
   "execution_count": 72,
   "metadata": {},
   "outputs": [
    {
     "name": "stdout",
     "output_type": "stream",
     "text": [
      "Aqui estão os nomes dos produtos que têm o valor maior que $10:\n",
      " item_name\n",
      "6 Pack Soft Drink                         356.95\n",
      "Barbacoa Bowl                             672.36\n",
      "Barbacoa Burrito                          894.75\n",
      "Barbacoa Crispy Tacos                     120.21\n",
      "Barbacoa Salad Bowl                       106.40\n",
      "Barbacoa Soft Tacos                       250.46\n",
      "Bottled Water                             302.56\n",
      "Bowl                                       29.60\n",
      "Burrito                                    44.40\n",
      "Canned Soda                               137.34\n",
      "Canned Soft Drink                         438.75\n",
      "Carnitas Bowl                             736.71\n",
      "Carnitas Burrito                          597.83\n",
      "Carnitas Crispy Tacos                      77.96\n",
      "Carnitas Salad                              8.99\n",
      "Carnitas Salad Bowl                        66.34\n",
      "Carnitas Soft Tacos                       375.94\n",
      "Chicken Bowl                             7342.73\n",
      "Chicken Burrito                          5575.82\n",
      "Chicken Crispy Tacos                      472.13\n",
      "Chicken Salad                              81.09\n",
      "Chicken Salad Bowl                       1228.75\n",
      "Chicken Soft Tacos                       1108.09\n",
      "Chips                                     494.34\n",
      "Chips and Fresh Tomato Salsa              361.36\n",
      "Chips and Guacamole                      2201.04\n",
      "Chips and Mild Fresh Tomato Salsa           3.00\n",
      "Chips and Roasted Chili Corn Salsa         67.85\n",
      "Chips and Roasted Chili-Corn Salsa         43.02\n",
      "Chips and Tomatillo Green Chili Salsa     132.75\n",
      "Chips and Tomatillo Red Chili Salsa       147.50\n",
      "Chips and Tomatillo-Green Chili Salsa      78.87\n",
      "Chips and Tomatillo-Red Chili Salsa        59.75\n",
      "Crispy Tacos                               14.80\n",
      "Izze                                       67.80\n",
      "Nantucket Nectar                           98.31\n",
      "Salad                                      14.80\n",
      "Side of Chips                             185.90\n",
      "Steak Bowl                               2260.19\n",
      "Steak Burrito                            3851.43\n",
      "Steak Crispy Tacos                        357.34\n",
      "Steak Salad                                35.66\n",
      "Steak Salad Bowl                          343.59\n",
      "Steak Soft Tacos                          536.05\n",
      "Veggie Bowl                               867.99\n",
      "Veggie Burrito                            934.77\n",
      "Veggie Crispy Tacos                         8.49\n",
      "Veggie Salad                               50.94\n",
      "Veggie Salad Bowl                         182.50\n",
      "Veggie Soft Tacos                          73.96\n",
      "Name: item_price, dtype: float64\n"
     ]
    }
   ],
   "source": [
    "maior_10_itens = chipo.groupby('item_name')['item_price'].sum()\n",
    "maior_10_itens = maior_10_itens.sort_index()\n",
    "print(f\"Aqui estão os nomes dos produtos que têm o valor maior que $10:\\n\", maior_10_itens)"
   ]
  },
  {
   "cell_type": "markdown",
   "metadata": {},
   "source": [
    "# o. Quantas vezes o item mais caro foi pedido?"
   ]
  },
  {
   "cell_type": "code",
   "execution_count": 73,
   "metadata": {},
   "outputs": [
    {
     "name": "stdout",
     "output_type": "stream",
     "text": [
      "O item mais caro Chicken Bowl foi pedido 726 vezes\n"
     ]
    }
   ],
   "source": [
    "mais_caro = maior_10_itens.idxmax()\n",
    "mais_caro_mais_pedido = chipo[chipo['item_name'] == mais_caro]\n",
    "qtd_pedidos = len(mais_caro_mais_pedido)\n",
    "\n",
    "print(f\"O item mais caro {mais_caro} foi pedido {qtd_pedidos} vezes\")"
   ]
  },
  {
   "cell_type": "markdown",
   "metadata": {},
   "source": [
    "# p. Quantas vezes uma Veggie Salad Bowl foi pedida?"
   ]
  },
  {
   "cell_type": "code",
   "execution_count": 74,
   "metadata": {},
   "outputs": [
    {
     "name": "stdout",
     "output_type": "stream",
     "text": [
      "O item Veggie Salad Bowl foi pedido 18 vezes\n"
     ]
    }
   ],
   "source": [
    "# veggie_bowl = chipo['item_name'].idxmax()\n",
    "veggiebowl = chipo[chipo['item_name'] == \"Veggie Salad Bowl\"]\n",
    "qtd_pedidos = len(veggiebowl)\n",
    "\n",
    "print(f\"O item {'Veggie Salad Bowl'} foi pedido {qtd_pedidos} vezes\")"
   ]
  },
  {
   "cell_type": "markdown",
   "metadata": {},
   "source": [
    "# q. Crie um histograma com os 5 produtos mais pedidos."
   ]
  },
  {
   "cell_type": "code",
   "execution_count": 75,
   "metadata": {},
   "outputs": [
    {
     "data": {
      "image/png": "[encoded data removed]",
      "text/plain": [
       "<Figure size 800x400 with 1 Axes>"
      ]
     },
     "metadata": {},
     "output_type": "display_data"
    }
   ],
   "source": [
    "mais_pedidos = chipo['item_name'].value_counts()\n",
    "top5 = mais_pedidos.head(5)\n",
    "\n",
    "plt.figure(figsize=(8, 4))\n",
    "top5.plot(kind='bar', color='blue')\n",
    "plt.title('Top 5 mais vendidos')\n",
    "plt.xlabel('Produto')\n",
    "plt.ylabel('Número de pedidos')\n",
    "plt.xticks(rotation=45)\n",
    "plt.show()"
   ]
  },
  {
   "cell_type": "markdown",
   "metadata": {},
   "source": [
    "# r. Crie um gráfico de espalhamento onde em um eixo está o número de vezes que um pedido foi realizado e no outro eixo está o preço do produto."
   ]
  },
  {
   "cell_type": "code",
   "execution_count": 76,
   "metadata": {},
   "outputs": [
    {
     "data": {
      "image/png": "[encoded data removed]",
      "text/plain": [
       "<Figure size 1000x600 with 1 Axes>"
      ]
     },
     "metadata": {},
     "output_type": "display_data"
    }
   ],
   "source": [
    "prods = chipo.groupby('item_name').agg({'quantity': 'sum', 'item_price': 'mean'})\n",
    "\n",
    "plt.figure(figsize=(10, 6))\n",
    "plt.scatter(prods['quantity'], prods['item_price'], alpha=0.5, color='blue')\n",
    "plt.title('Número de Pedidos vs. Preço do Produto')\n",
    "plt.xlabel('Pedidos')\n",
    "plt.ylabel('Preço')\n",
    "plt.grid(True)\n",
    "plt.show()"
   ]
  },
  {
   "cell_type": "markdown",
   "metadata": {},
   "source": [
    "# s. Baseado no gráfico gerado, os dois eixos estão correlacionados? Justifique."
   ]
  },
  {
   "cell_type": "code",
   "execution_count": 82,
   "metadata": {},
   "outputs": [
    {
     "data": {
      "text/plain": [
       "0.2639810066028455"
      ]
     },
     "execution_count": 82,
     "metadata": {},
     "output_type": "execute_result"
    }
   ],
   "source": [
    "chipo['item_price'].corr(chipo['quantity'])"
   ]
  }
 ],
 "metadata": {
  "kernelspec": {
   "display_name": "Python 3",
   "language": "python",
   "name": "python3"
  },
  "language_info": {
   "codemirror_mode": {
    "name": "ipython",
    "version": 3
   },
   "file_extension": ".py",
   "mimetype": "text/x-python",
   "name": "python",
   "nbconvert_exporter": "python",
   "pygments_lexer": "ipython3",
   "version": "3.11.5"
  },
  "orig_nbformat": 4
 },
 "nbformat": 4,
 "nbformat_minor": 2
}
